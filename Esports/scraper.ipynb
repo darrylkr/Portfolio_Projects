{
 "cells": [
  {
   "cell_type": "code",
   "execution_count": 59,
   "id": "eea6fedb",
   "metadata": {
    "ExecuteTime": {
     "end_time": "2023-03-14T09:21:38.124874Z",
     "start_time": "2023-03-14T09:21:38.091836Z"
    }
   },
   "outputs": [],
   "source": [
    "import pandas as pd\n",
    "import numpy as np\n",
    "import requests\n",
    "from bs4 import BeautifulSoup\n",
    "import re"
   ]
  },
  {
   "cell_type": "markdown",
   "id": "0ca11b71",
   "metadata": {},
   "source": [
    "### Top player winnings per year"
   ]
  },
  {
   "cell_type": "code",
   "execution_count": 66,
   "id": "defab1d2",
   "metadata": {
    "ExecuteTime": {
     "end_time": "2023-03-14T09:23:20.251283Z",
     "start_time": "2023-03-14T09:23:20.231278Z"
    }
   },
   "outputs": [],
   "source": [
    "#get details of players on each page\n",
    "def pull_player_data(df_top_players, session, url, year):\n",
    "    table = None\n",
    "    \n",
    "    while table is None:\n",
    "        response = requests.get(url)\n",
    "        soup = BeautifulSoup(response.content, 'html.parser')\n",
    "        table = soup.find(\"table\", class_ = 'detail_list_table')\n",
    "    \n",
    "    row_list = []\n",
    "    \n",
    "    tr_list = table.find('tbody')\n",
    "    for tr in tr_list:\n",
    "        row = tr.find_all('td')\n",
    "        \n",
    "        rank = row[0].text.strip()\n",
    "        player_id = row[1].text.strip()\n",
    "        player_name = row[2].text.strip()\n",
    "        winnings_year = row[3].text.strip()\n",
    "        winnings_overall = row[4].text.strip()\n",
    "        pct_winnings_year = row[5].text.strip()\n",
    "        player_profile = row[2].a['href']\n",
    "\n",
    "        row_list.append([rank, player_id, player_name, winnings_year, winnings_overall, pct_winnings_year, year, player_profile])\n",
    "        \n",
    "    df_top_players = pd.concat([df_top_players, pd.DataFrame(row_list, columns=df_top_players.columns)])\n",
    "    \n",
    "    return df_top_players"
   ]
  },
  {
   "cell_type": "code",
   "execution_count": 159,
   "id": "1d4c1593",
   "metadata": {
    "ExecuteTime": {
     "end_time": "2023-03-14T10:44:05.167138Z",
     "start_time": "2023-03-14T10:44:05.152136Z"
    }
   },
   "outputs": [],
   "source": [
    "#get the top 500 players per year for each year from 1998-2022\n",
    "#500 players = 5 pages; 2001 has 4 pages, 2000 has 3 pages, etc.\n",
    "def top_players_table(): \n",
    "    df_top_players = pd.DataFrame(columns=['rank', 'player_id', 'player_name', 'winnings_year', 'winnings_overall', 'pct_winnings_overall', 'year', 'player_profile'])\n",
    "\n",
    "    for year in range(2022, 1997, -1):\n",
    "        #get top player earnings for ranks 200-500\n",
    "        start = 0\n",
    "        end = 500\n",
    "        if year in [2001, 2000, 1999, 1998]:\n",
    "            if year == 2001:\n",
    "                end = 400\n",
    "            elif year == 2000:\n",
    "                end = 300\n",
    "            elif year == 1999 or year == 1998:\n",
    "                end = 100\n",
    "        for rank in range(start,end,100):\n",
    "            if rank == 0:\n",
    "                rank = ''\n",
    "            else:\n",
    "                rank = f'_{rank}'\n",
    "            session = requests.Session()\n",
    "            url = f'https://www.esportsearnings.com/history/{year}/top_players{str(rank)}'\n",
    "            df_top_players = pull_player_data(df_top_players, session url, year)\n",
    "            \n",
    "    df_top_players = df_top_players.reset_index(drop=True)\n",
    "    \n",
    "    df_top_players['rank'] = pd.to_numeric(df_top_players['rank'].str.replace('\\.', '', regex=True), errors='coerce')\n",
    "    df_top_players['winnings_year'] = pd.to_numeric(df_top_players['winnings_year'].str.replace('[$,]', '', regex=True), errors='coerce')\n",
    "    df_top_players['winnings_overall'] = pd.to_numeric(df_top_players['winnings_overall'].str.replace('[$,]', '', regex=True), errors='coerce')\n",
    "    df_top_players['pct_winnings_overall'] = pd.to_numeric(df_top_players['pct_winnings_overall'].str.replace('%', '', regex=True), errors='coerce')\n",
    "    df_top_players['year'] = pd.to_numeric(df_top_players['year'], errors='coerce')\n",
    "    \n",
    "    return df_top_players"
   ]
  },
  {
   "cell_type": "markdown",
   "id": "71db9689",
   "metadata": {},
   "source": [
    "#### Generic method for top games/country/team tables"
   ]
  },
  {
   "cell_type": "code",
   "execution_count": 30,
   "id": "40b61748",
   "metadata": {
    "ExecuteTime": {
     "end_time": "2023-01-17T17:30:54.956153Z",
     "start_time": "2023-01-17T17:30:54.938150Z"
    }
   },
   "outputs": [],
   "source": [
    "def pull_table_data(df, url, month, year):\n",
    "    soup = None\n",
    "    table = None\n",
    "    \n",
    "    while soup is None:    \n",
    "        req = requests.get(url)\n",
    "        soup = BeautifulSoup(req.content, 'html.parser')\n",
    "        \n",
    "    table = soup.find(\"table\", class_ = 'detail_list_table')\n",
    "    if table is None:\n",
    "        return df\n",
    "    else:\n",
    "        for tr in table.find('tbody'):\n",
    "            row = []\n",
    "            for td in tr:\n",
    "                row.append(td.text.strip())\n",
    "            row.append(month)\n",
    "            row.append(year)\n",
    "\n",
    "            df = pd.concat([df, pd.DataFrame([row], columns=df.columns)])\n",
    "            \n",
    "    return df"
   ]
  },
  {
   "cell_type": "markdown",
   "id": "8eadc72d",
   "metadata": {},
   "source": [
    "#### Top games info per month/year"
   ]
  },
  {
   "cell_type": "code",
   "execution_count": 42,
   "id": "95533d7c",
   "metadata": {
    "ExecuteTime": {
     "end_time": "2023-01-17T18:32:53.928722Z",
     "start_time": "2023-01-17T18:32:53.899716Z"
    },
    "scrolled": true
   },
   "outputs": [],
   "source": [
    "#get top games data each month/year\n",
    "def top_games_table():\n",
    "    columns = ['rank', 'game', 'prize', 'players', 'tournaments', 'month', 'year']\n",
    "    df_top_games = pd.DataFrame(columns=columns)\n",
    "\n",
    "    for year in range(2022, 1997, -1):\n",
    "        for month in range(1,13):\n",
    "            if month < 10:\n",
    "                month_url = f'0{month}'\n",
    "            else:\n",
    "                month_url = month\n",
    "\n",
    "            url = f'https://www.esportsearnings.com/history/{year}-{month_url}/games'\n",
    "            df_top_games = pull_table_data(df_top_games, url, month_url, year)\n",
    "\n",
    "    df_top_games = df_top_games.reset_index(drop=True)\n",
    "    df_top_games['rank'] = pd.to_numeric(df_top_games['rank'].str.replace('\\.', '', regex=True), errors='coerce')\n",
    "    df_top_games['prize'] = pd.to_numeric(df_top_games['prize'].str.replace('[$,]', '', regex=True), errors='coerce')\n",
    "    df_top_games['players'] = pd.to_numeric(df_top_games['players'].str.replace(' Players| Player', '', regex=True))\n",
    "    df_top_games['tournaments'] = pd.to_numeric(df_top_games['tournaments'].str.replace(' Tournaments| Tournament', '', regex=True))\n",
    "    df_top_games['month'] = pd.to_numeric(df_top_games['month'], errors='coerce')\n",
    "    df_top_games['year'] = pd.to_numeric(df_top_games['year'], errors='coerce')\n",
    "    \n",
    "    return df_top_games"
   ]
  },
  {
   "cell_type": "markdown",
   "id": "129bdd51",
   "metadata": {},
   "source": [
    "#### Top countries winnings per year"
   ]
  },
  {
   "cell_type": "code",
   "execution_count": 23,
   "id": "e332e2fe",
   "metadata": {
    "ExecuteTime": {
     "end_time": "2023-01-17T17:26:43.985909Z",
     "start_time": "2023-01-17T17:26:43.970973Z"
    }
   },
   "outputs": [],
   "source": [
    "#get present day top countries by prize winnings data\n",
    "def top_countries_table():\n",
    "    url = 'https://www.esportsearnings.com/countries'\n",
    "    req = requests.get(url)\n",
    "    soup = BeautifulSoup(req.content, 'html.parser')\n",
    "\n",
    "    tbody = soup.find(\"tbody\")\n",
    "    country_details = []\n",
    "\n",
    "    for row in tbody:\n",
    "        row_details = row.find_all('td', class_='format_cell')\n",
    "        rank = row_details[0].text\n",
    "        country = row_details[1].text.strip()\n",
    "        total_prize = row_details[2].text\n",
    "        players = row_details[3].text\n",
    "        top_game = row_details[4].text\n",
    "        prize_top_game = row_details[5].text\n",
    "        pct_total_prize = row_details[6].text\n",
    "        row_list = [rank, country, total_prize, players, top_game, prize_top_game, pct_total_prize]\n",
    "        country_details.append(row_list)\n",
    "\n",
    "    df_top_countries = pd.DataFrame(country_details, columns=['rank', 'country', 'prize', 'players', 'top_game', 'prize_top_game', 'pct_total_prize'])\n",
    "    \n",
    "    df_top_countries['rank'] = pd.to_numeric(df_top_countries['rank'].str.replace('\\.', '', regex=True), errors='coerce')\n",
    "    df_top_countries['prize'] = pd.to_numeric(df_top_countries['prize'].str.replace('[$,]', '', regex=True), errors='coerce')\n",
    "    df_top_countries['players'] = df_top_countries['players'].str.replace(r',', '', regex=True)\n",
    "    df_top_countries['players'] = pd.to_numeric(df_top_countries['players'].str.replace(r' Players| Player', '', regex=True))\n",
    "    df_top_countries['prize_top_game'] = pd.to_numeric(df_top_countries['prize_top_game'].str.replace('[$,]', '', regex=True), errors='coerce')\n",
    "    df_top_countries['pct_total_prize'] = pd.to_numeric(df_top_countries['pct_total_prize'].str.replace('%', '', regex=True), errors='coerce')\n",
    "    \n",
    "    return df_top_countries"
   ]
  },
  {
   "cell_type": "code",
   "execution_count": 39,
   "id": "1e6c9bda",
   "metadata": {
    "ExecuteTime": {
     "end_time": "2023-01-17T17:50:52.295222Z",
     "start_time": "2023-01-17T17:50:52.280218Z"
    }
   },
   "outputs": [],
   "source": [
    "#get top countries data each month/year\n",
    "def top_countries_history_table():\n",
    "    columns = ['rank', 'country', 'prize', 'players', 'month', 'year']\n",
    "    df_top_countries_history = pd.DataFrame(columns=columns)\n",
    "    \n",
    "    for year in range(2022, 1997, -1):\n",
    "        for month in range(1,13):\n",
    "            if month < 10:\n",
    "                month_url = f'0{month}'\n",
    "            else:\n",
    "                month_url = month\n",
    "\n",
    "            url = f'https://www.esportsearnings.com/history/{year}-{month_url}/countries'\n",
    "            df_top_countries_history = pull_table_data(df_top_countries_history, url, month_url, year)\n",
    "        \n",
    "    df_top_countries_history['rank'] = pd.to_numeric(df_top_countries_history['rank'].str.replace('\\.', '', regex=True), errors='coerce')\n",
    "    df_top_countries_history['prize'] = pd.to_numeric(df_top_countries_history['prize'].str.replace('[$,]', '', regex=True), errors='coerce')\n",
    "    df_top_countries_history['players'] = pd.to_numeric(df_top_countries_history['players'].str.replace(r' Players| Player', '', regex=True))\n",
    "    df_top_countries_history['month'] = pd.to_numeric(df_top_countries_history['month'], errors='coerce')\n",
    "    df_top_countries_history['year'] = pd.to_numeric(df_top_countries_history['year'], errors='coerce')\n",
    "    \n",
    "    return df_top_countries_history"
   ]
  },
  {
   "cell_type": "markdown",
   "id": "31bd24df",
   "metadata": {},
   "source": [
    "#### Top Teams by winnings per year"
   ]
  },
  {
   "cell_type": "code",
   "execution_count": 53,
   "id": "4e120897",
   "metadata": {
    "ExecuteTime": {
     "end_time": "2023-01-17T19:16:45.514219Z",
     "start_time": "2023-01-17T19:16:45.499216Z"
    }
   },
   "outputs": [],
   "source": [
    "#get top teams data each month/year\n",
    "def top_teams_history_table():\n",
    "    columns = ['rank', 'team', 'prize', 'tournaments', 'month', 'year']\n",
    "    df_top_teams = pd.DataFrame(columns=columns)\n",
    "    \n",
    "    for year in range(2022, 1997, -1):\n",
    "        for month in range(1,13):\n",
    "            if month < 10:\n",
    "                month_url = f'0{month}'\n",
    "            else:\n",
    "                month_url = month\n",
    "\n",
    "            url = f'https://www.esportsearnings.com/history/{year}-{month_url}/teams'\n",
    "            df_top_teams = pull_table_data(df_top_teams, url, month_url, year)\n",
    "        \n",
    "    df_top_teams['rank'] = pd.to_numeric(df_top_teams['rank'].str.replace('\\.', '', regex=True), errors='coerce')\n",
    "    df_top_teams['prize'] = pd.to_numeric(df_top_teams['prize'].str.replace('[$,]', '', regex=True), errors='coerce')\n",
    "    df_top_teams['tournaments'] = pd.to_numeric(df_top_teams['tournaments'].str.replace(' Tournaments| Tournament', '', regex=True))\n",
    "    df_top_teams['month'] = pd.to_numeric(df_top_teams['month'], errors='coerce')\n",
    "    df_top_teams['year'] = pd.to_numeric(df_top_teams['year'], errors='coerce')\n",
    "    \n",
    "    return df_top_teams"
   ]
  },
  {
   "cell_type": "markdown",
   "id": "54ceee99",
   "metadata": {},
   "source": [
    "#### Player profile history"
   ]
  },
  {
   "cell_type": "code",
   "execution_count": 55,
   "id": "4bc397e1",
   "metadata": {
    "ExecuteTime": {
     "end_time": "2023-01-17T19:27:06.124208Z",
     "start_time": "2023-01-17T19:27:06.109205Z"
    }
   },
   "outputs": [],
   "source": [
    "#get player's annual history of prize winnings/tournament count\n",
    "def pull_player_yearly_history(player_profile, df_players_yearly_history):\n",
    "\n",
    "    table = None\n",
    "    while table is None:\n",
    "        url = f'https://www.esportsearnings.com{player_profile}'\n",
    "        req = requests.get(url)\n",
    "        soup = BeautifulSoup(req.content, 'html.parser')\n",
    "        table = soup.find(\"table\", class_ = 'detail_list_table player_summary_table')\n",
    "\n",
    "    tr_list = table.find_all('tr', class_='format_row highlight')\n",
    "    year_history = []\n",
    "\n",
    "    for tr in tr_list:\n",
    "        row = tr.find_all('td')\n",
    "        \n",
    "        year = row[0].text\n",
    "        prize = row[1].text\n",
    "        tournaments = row[2].text\n",
    "        pct_total = row[3].text\n",
    "\n",
    "        row_year = [year, prize, tournaments, pct_total, player_profile]\n",
    "        year_history.append(row_year)\n",
    "        print(f'year: {year}')\n",
    "        print(f'prize: {prize}')\n",
    "        print(f'tournaments: {tournaments}')   \n",
    "        print(f'pct_total: {pct_total}')\n",
    "        print(f'profile_link: {player_profile}')\n",
    "        print('---------------------------------')\n",
    "    \n",
    "    df_players_yearly_history = pd.concat([df_players_yearly_history, pd.DataFrame(year_history, columns=df_players_yearly_history.columns)])\n",
    "\n",
    "    return df_players_yearly_history"
   ]
  },
  {
   "cell_type": "code",
   "execution_count": 56,
   "id": "36fb2466",
   "metadata": {
    "ExecuteTime": {
     "end_time": "2023-01-17T19:27:06.140212Z",
     "start_time": "2023-01-17T19:27:06.125209Z"
    }
   },
   "outputs": [],
   "source": [
    "#pull every unique player's annual history of prize winnings/tournament count\n",
    "def players_yearly_history_table(player_profile_list):\n",
    "    df_players_yearly_history = pd.DataFrame(columns=['year', 'prize', 'tournaments', 'pct_total', 'profile_link'])\n",
    "\n",
    "    for player in player_profile_list:\n",
    "        df_players_yearly_history = pull_player_yearly_history(player, df_players_yearly_history)\n",
    "    \n",
    "    df_players_yearly_history = df_players_yearly_history.reset_index(drop=True)\n",
    "    df_players_yearly_history = df_players_yearly_history.replace('NaN', np.nan)\n",
    "    \n",
    "    df_players_yearly_history['year'] = pd.to_numeric(df_players_yearly_history['year'], errors='coerce')\n",
    "    df_players_yearly_history['prize'] = pd.to_numeric(df_players_yearly_history['prize'].str.replace('[$,]', '', regex=True), errors='coerce')\n",
    "    df_players_yearly_history['tournaments'] = pd.to_numeric(df_players_yearly_history['tournaments'].str.replace(' Tournaments| Tournament', '', regex=True))\n",
    "    df_players_yearly_history['pct_total'] = pd.to_numeric(df_players_yearly_history['pct_total'].str.replace('%', '', regex=True), errors='coerce')\n",
    "    \n",
    "    return df_players_yearly_history"
   ]
  },
  {
   "cell_type": "markdown",
   "id": "4d7c5438",
   "metadata": {},
   "source": [
    "#### Player Profile"
   ]
  },
  {
   "cell_type": "code",
   "execution_count": 12,
   "id": "93ae8ba4",
   "metadata": {
    "ExecuteTime": {
     "end_time": "2023-01-17T17:19:47.223900Z",
     "start_time": "2023-01-17T17:19:47.211899Z"
    }
   },
   "outputs": [],
   "source": [
    "#get player demographic and game data\n",
    "def pull_player_profile(player_profile, df_player_info):\n",
    "    \n",
    "    player_info = None\n",
    "    \n",
    "    while player_info is None:\n",
    "        url = f'https://www.esportsearnings.com{player_profile}'\n",
    "        response = requests.get(url)\n",
    "        soup = BeautifulSoup(response.content, 'html.parser')\n",
    "        player_info = soup.find(\"div\", class_='info_box')\n",
    "\n",
    "    #get player alias\n",
    "    player_alias = player_info.find('h1', class_='info_box_title')\n",
    "    \n",
    "    game = re.split('\\- ', player_alias.text)[-1]\n",
    "    game = re.split(' Player', game)[0]\n",
    "    \n",
    "    alias = re.split(f'\\- {game}', player_alias.text)[0].strip()\n",
    "    \n",
    "    if len(re.split('\"(.*)\"', alias)) == 1:\n",
    "        name = re.split('\"(.*)\"', alias)[0]\n",
    "        player_id = 'NaN'\n",
    "    else:\n",
    "        first = re.split('\"(.*)\"', alias)[0].strip()\n",
    "        last = re.split('\"(.*)\"', alias)[2].strip()\n",
    "        player_id = re.split('\"(.*)\"', alias)[1].strip()\n",
    "        \n",
    "        if first == '-' or last == '-':\n",
    "            name = 'NaN'\n",
    "        else:\n",
    "            name = f'{first} {last}'\n",
    "\n",
    "    #get player age\n",
    "    player_info_detailed = player_info.find_all('div', class_='format_cell')\n",
    "\n",
    "    if player_info_detailed[4].text == 'Age:':\n",
    "        age = player_info_detailed[5].text\n",
    "    else:\n",
    "        age = 'NaN'\n",
    "\n",
    "    #get player country\n",
    "    country = player_info.find('div', class_='info_country').text\n",
    "    \n",
    "       \n",
    "    print(f'name: {name}')\n",
    "    print(f'player_id: {player_id}')\n",
    "    print(f'game: {game}')\n",
    "    print(f'age: {age}')\n",
    "    print(f'country: {country}')\n",
    "    print(f'profile_link: {player_profile}')\n",
    "    print('-------------------------------------')\n",
    "    \n",
    "    player_info_data = [name, player_id, game, age, country, player_profile]\n",
    "    df_player_info = pd.concat([df_player_info, pd.DataFrame([player_info_data], columns=df_player_info.columns)])\n",
    "\n",
    "    return df_player_info"
   ]
  },
  {
   "cell_type": "code",
   "execution_count": 11,
   "id": "e1fc1fcf",
   "metadata": {
    "ExecuteTime": {
     "end_time": "2023-01-17T17:19:47.021854Z",
     "start_time": "2023-01-17T17:19:47.011853Z"
    }
   },
   "outputs": [],
   "source": [
    "#get all unique players demographic and game data\n",
    "def player_profile_table(player_profile_list):\n",
    "    df_player_info = pd.DataFrame(columns=['name', 'player_id', 'game', 'age', 'country', 'profile_link'])\n",
    "    \n",
    "    for player in player_profile_list:\n",
    "        df_player_info = pull_player_profile(player, df_player_info)\n",
    "    \n",
    "    df_player_info = df_player_info.reset_index(drop=True)\n",
    "    df_player_info = df_player_info.replace('NaN', np.nan)\n",
    "    df_player_info['age'] = pd.to_numeric(df_player_info['age'], errors='coerce', downcast='integer')\n",
    "    \n",
    "    return df_player_info"
   ]
  },
  {
   "cell_type": "markdown",
   "id": "90bd3480",
   "metadata": {},
   "source": [
    "### esport games details"
   ]
  },
  {
   "cell_type": "code",
   "execution_count": 46,
   "id": "5cc0e13f",
   "metadata": {
    "ExecuteTime": {
     "end_time": "2023-01-17T18:57:48.485323Z",
     "start_time": "2023-01-17T18:57:48.471320Z"
    }
   },
   "outputs": [],
   "source": [
    "#for pulling game and genre data\n",
    "def esports_games_table():\n",
    "    url = 'https://www.esportsearnings.com/games/browse-by-genre'\n",
    "    response = requests.get(url)\n",
    "    soup = BeautifulSoup(response.content, 'html.parser')\n",
    "    game_info = soup.find(\"div\", class_='detail_list_box')\n",
    "    \n",
    "    genre_strings = game_info.find_all(\"span\", class_='games_main_genre_title')\n",
    "    genre_games = game_info.find_all('div', class_=\"games_main_genre_body\")\n",
    "    \n",
    "    df_esport_games = pd.DataFrame(columns=['title', 'genre', 'prize', 'players' ,'tournaments'])\n",
    "    \n",
    "    for i, genre_title in enumerate(genre_strings):\n",
    "        genre = genre_title.text\n",
    "        game_details = []\n",
    "\n",
    "        for game in genre_games[i]:\n",
    "            if game.div is None:\n",
    "                continue\n",
    "            else:\n",
    "                game_title = game.div.text\n",
    "                game_stats = game.find('div', class_='games_main_game_stats')\n",
    "                prize = game_stats.contents[0]\n",
    "                players = game_stats.contents[2]\n",
    "                tournaments = game_stats.contents[4]\n",
    "\n",
    "                row = [game_title, genre, prize, players, tournaments]\n",
    "                game_details.append(row)\n",
    "\n",
    "        df_esport_games = pd.concat([df_esport_games, pd.DataFrame(game_details, columns=df_esport_games.columns)])\n",
    "\n",
    "    df_esport_games = df_esport_games.reset_index(drop=True)\n",
    "    \n",
    "    df_esport_games['prize'] = pd.to_numeric(df_esport_games['prize'].str.replace('[$,]', '', regex=True), errors='coerce')\n",
    "    df_esport_games['players'] = pd.to_numeric(df_esport_games['players'].str.replace(' Players| Player', '', regex=True))\n",
    "    df_esport_games['tournaments'] = pd.to_numeric(df_esport_games['tournaments'].str.replace(' Tournaments| Tournament', '', regex=True))\n",
    "    \n",
    "    return df_esport_games"
   ]
  },
  {
   "cell_type": "code",
   "execution_count": null,
   "id": "a16f2105",
   "metadata": {},
   "outputs": [],
   "source": [
    "#scrape top players\n",
    "df_top_players = top_players_table()\n",
    "df_top_players.info()\n",
    "\n",
    "#get only unique players as they can appear in the top 500 players multiple times between 1998-2022\n",
    "unique_profiles = df_top_players[~df_top_players['player_profile'].duplicated()]['player_profile']\n",
    "\n",
    "#scrape top games\n",
    "df_top_games = top_games_table()\n",
    "df_top_games.info()\n",
    "\n",
    "#scrape top countries\n",
    "df_top_countries = top_countries_table()\n",
    "df_top_countries.info()\n",
    "\n",
    "#scrape top countries history\n",
    "df_top_countries_history = top_countries_history_table()\n",
    "df_top_countries_history.info()\n",
    "\n",
    "#scrape top teams\n",
    "df_top_teams = top_teams_history_table()\n",
    "df_top_teams.info()\n",
    "\n",
    "#scrape player's yearly history\n",
    "#use unique_profiles derived from top_players table\n",
    "df_players_yearly_history = players_yearly_history_table(unique_profiles)\n",
    "df_players_yearly_history.info()\n",
    "\n",
    "#scrape player's demographic info\n",
    "df_player_info = player_profile_table(unique_profiles)\n",
    "df_player_info.info()\n",
    "\n",
    "#scrape all genres/games data\n",
    "df_esport_games = esports_games_table()\n",
    "df_esport_games.info()\n",
    "\n",
    "#save to .csv file to load into SQL to query for Tableau visualisation\n",
    "df_top_players.to_csv('to_sql/top_players.csv', index=False)\n",
    "df_top_games.to_csv('to_sql/top_games.csv', index=False)\n",
    "df_top_countries.to_csv('to_sql/top_countries.csv', index=False)\n",
    "df_top_countries_history.to_csv('to_sql/top_countries_history.csv', index=False)\n",
    "df_top_teams.to_csv('to_sql/top_teams.csv', index=False)\n",
    "df_players_yearly_history.to_csv('to_sql/top_player_history.csv', index=False)\n",
    "df_player_info.to_csv('to_sql/player_profiles.csv', index=False)\n",
    "df_esport_games.to_csv('to_sql/all_esport_games.csv', index=False)"
   ]
  }
 ],
 "metadata": {
  "kernelspec": {
   "display_name": "Python 3 (ipykernel)",
   "language": "python",
   "name": "python3"
  },
  "language_info": {
   "codemirror_mode": {
    "name": "ipython",
    "version": 3
   },
   "file_extension": ".py",
   "mimetype": "text/x-python",
   "name": "python",
   "nbconvert_exporter": "python",
   "pygments_lexer": "ipython3",
   "version": "3.8.12"
  }
 },
 "nbformat": 4,
 "nbformat_minor": 5
}
